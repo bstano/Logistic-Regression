{
 "cells": [
  {
   "cell_type": "markdown",
   "metadata": {},
   "source": [
    "# Census Income\n",
    "\n",
    "We have data from the 1994 US Census and we are interested in a person's income. Specifically, we want to know what demographic factors we could use to accurately predict if a person makes more or less than $50K a year.\n",
    "\n",
    "The data has 15 columns altogether: 'Age', 'Employeer', 'Num-Rep', 'Education', 'Edu-Num', 'Marital', 'Job', 'Relationship', 'Race', 'Sex', 'Cap-Gain', 'Cap-Loss', 'Hours', 'Nationality', 'Income'. \n",
    "\n",
    "The __Age__, __Race__, __Sex__, and __Nationality__ columns are all self-explainitory.  Age is continous while the rest are categorical.\n",
    "\n",
    "The __Employeer__ column is cateogrial and decribes what type of employeer the subject has, while the also categorical __Job__ column describes what type of job the subject has. Then, the __Hours__ column is continous and decribes how many hours a week the subject works. \n",
    "\n",
    "The __Num-Rep__ is continuous and represents how many people this subject is expected to represent in the population, it will probably not be a useful variable. \n",
    "\n",
    "The __Education__ column decribes the highest education the subject achieved categorically and __Edu-Num__ does the same continuously.\n",
    "\n",
    "The __Marital__ column is categorical and describes the subjects marital status, while the __Relationship__ column expands on it and is also categorical. \n",
    "\n",
    "Both the __Cap-Gain__ and __Cap-Loss__ columns and continuous and describe the subject's capital gains and losses respectively. \n",
    "\n",
    "Finally, the __Income__ column is categorical and tells whether or not a subject earns more than $50K a year, and is special because it is our outcome variable."
   ]
  },
  {
   "cell_type": "code",
   "execution_count": 1,
   "metadata": {},
   "outputs": [],
   "source": [
    "import numpy as np\n",
    "import pandas as pd\n",
    "import matplotlib.pyplot as plt\n",
    "import seaborn as sns\n",
    "import math\n",
    "import random\n",
    "from collections import Counter\n",
    "from IPython.core.display import HTML\n",
    "from sklearn.preprocessing import StandardScaler\n",
    "from sklearn import linear_model\n",
    "import statsmodels.formula.api as smf\n",
    "\n",
    "%matplotlib inline"
   ]
  },
  {
   "cell_type": "markdown",
   "metadata": {},
   "source": [
    "# Importing the Data"
   ]
  },
  {
   "cell_type": "code",
   "execution_count": 2,
   "metadata": {},
   "outputs": [
    {
     "data": {
      "text/html": [
       "<div>\n",
       "<style scoped>\n",
       "    .dataframe tbody tr th:only-of-type {\n",
       "        vertical-align: middle;\n",
       "    }\n",
       "\n",
       "    .dataframe tbody tr th {\n",
       "        vertical-align: top;\n",
       "    }\n",
       "\n",
       "    .dataframe thead th {\n",
       "        text-align: right;\n",
       "    }\n",
       "</style>\n",
       "<table border=\"1\" class=\"dataframe\">\n",
       "  <thead>\n",
       "    <tr style=\"text-align: right;\">\n",
       "      <th></th>\n",
       "      <th>39</th>\n",
       "      <th>State-gov</th>\n",
       "      <th>77516</th>\n",
       "      <th>Bachelors</th>\n",
       "      <th>13</th>\n",
       "      <th>Never-married</th>\n",
       "      <th>Adm-clerical</th>\n",
       "      <th>Not-in-family</th>\n",
       "      <th>White</th>\n",
       "      <th>Male</th>\n",
       "      <th>2174</th>\n",
       "      <th>0</th>\n",
       "      <th>40</th>\n",
       "      <th>United-States</th>\n",
       "      <th>&lt;=50K</th>\n",
       "    </tr>\n",
       "  </thead>\n",
       "  <tbody>\n",
       "    <tr>\n",
       "      <th>0</th>\n",
       "      <td>50</td>\n",
       "      <td>Self-emp-not-inc</td>\n",
       "      <td>83311</td>\n",
       "      <td>Bachelors</td>\n",
       "      <td>13</td>\n",
       "      <td>Married-civ-spouse</td>\n",
       "      <td>Exec-managerial</td>\n",
       "      <td>Husband</td>\n",
       "      <td>White</td>\n",
       "      <td>Male</td>\n",
       "      <td>0</td>\n",
       "      <td>0</td>\n",
       "      <td>13</td>\n",
       "      <td>United-States</td>\n",
       "      <td>&lt;=50K</td>\n",
       "    </tr>\n",
       "    <tr>\n",
       "      <th>1</th>\n",
       "      <td>38</td>\n",
       "      <td>Private</td>\n",
       "      <td>215646</td>\n",
       "      <td>HS-grad</td>\n",
       "      <td>9</td>\n",
       "      <td>Divorced</td>\n",
       "      <td>Handlers-cleaners</td>\n",
       "      <td>Not-in-family</td>\n",
       "      <td>White</td>\n",
       "      <td>Male</td>\n",
       "      <td>0</td>\n",
       "      <td>0</td>\n",
       "      <td>40</td>\n",
       "      <td>United-States</td>\n",
       "      <td>&lt;=50K</td>\n",
       "    </tr>\n",
       "    <tr>\n",
       "      <th>2</th>\n",
       "      <td>53</td>\n",
       "      <td>Private</td>\n",
       "      <td>234721</td>\n",
       "      <td>11th</td>\n",
       "      <td>7</td>\n",
       "      <td>Married-civ-spouse</td>\n",
       "      <td>Handlers-cleaners</td>\n",
       "      <td>Husband</td>\n",
       "      <td>Black</td>\n",
       "      <td>Male</td>\n",
       "      <td>0</td>\n",
       "      <td>0</td>\n",
       "      <td>40</td>\n",
       "      <td>United-States</td>\n",
       "      <td>&lt;=50K</td>\n",
       "    </tr>\n",
       "    <tr>\n",
       "      <th>3</th>\n",
       "      <td>28</td>\n",
       "      <td>Private</td>\n",
       "      <td>338409</td>\n",
       "      <td>Bachelors</td>\n",
       "      <td>13</td>\n",
       "      <td>Married-civ-spouse</td>\n",
       "      <td>Prof-specialty</td>\n",
       "      <td>Wife</td>\n",
       "      <td>Black</td>\n",
       "      <td>Female</td>\n",
       "      <td>0</td>\n",
       "      <td>0</td>\n",
       "      <td>40</td>\n",
       "      <td>Cuba</td>\n",
       "      <td>&lt;=50K</td>\n",
       "    </tr>\n",
       "    <tr>\n",
       "      <th>4</th>\n",
       "      <td>37</td>\n",
       "      <td>Private</td>\n",
       "      <td>284582</td>\n",
       "      <td>Masters</td>\n",
       "      <td>14</td>\n",
       "      <td>Married-civ-spouse</td>\n",
       "      <td>Exec-managerial</td>\n",
       "      <td>Wife</td>\n",
       "      <td>White</td>\n",
       "      <td>Female</td>\n",
       "      <td>0</td>\n",
       "      <td>0</td>\n",
       "      <td>40</td>\n",
       "      <td>United-States</td>\n",
       "      <td>&lt;=50K</td>\n",
       "    </tr>\n",
       "  </tbody>\n",
       "</table>\n",
       "</div>"
      ],
      "text/plain": [
       "   39          State-gov   77516   Bachelors   13        Never-married  \\\n",
       "0  50   Self-emp-not-inc   83311   Bachelors   13   Married-civ-spouse   \n",
       "1  38            Private  215646     HS-grad    9             Divorced   \n",
       "2  53            Private  234721        11th    7   Married-civ-spouse   \n",
       "3  28            Private  338409   Bachelors   13   Married-civ-spouse   \n",
       "4  37            Private  284582     Masters   14   Married-civ-spouse   \n",
       "\n",
       "         Adm-clerical   Not-in-family   White     Male   2174   0   40  \\\n",
       "0     Exec-managerial         Husband   White     Male      0   0   13   \n",
       "1   Handlers-cleaners   Not-in-family   White     Male      0   0   40   \n",
       "2   Handlers-cleaners         Husband   Black     Male      0   0   40   \n",
       "3      Prof-specialty            Wife   Black   Female      0   0   40   \n",
       "4     Exec-managerial            Wife   White   Female      0   0   40   \n",
       "\n",
       "    United-States   <=50K  \n",
       "0   United-States   <=50K  \n",
       "1   United-States   <=50K  \n",
       "2   United-States   <=50K  \n",
       "3            Cuba   <=50K  \n",
       "4   United-States   <=50K  "
      ]
     },
     "metadata": {},
     "output_type": "display_data"
    }
   ],
   "source": [
    "census = pd.read_csv('adult.csv')\n",
    "census = census.dropna()\n",
    "display(census.head())"
   ]
  },
  {
   "cell_type": "markdown",
   "metadata": {},
   "source": [
    "The data that should be our first row has been shifted up and become the column names, since our data didn't start with any."
   ]
  },
  {
   "cell_type": "code",
   "execution_count": 3,
   "metadata": {},
   "outputs": [
    {
     "name": "stderr",
     "output_type": "stream",
     "text": [
      "c:\\users\\ben stano\\appdata\\local\\programs\\python\\python36-32\\lib\\site-packages\\pandas\\core\\indexes\\api.py:87: RuntimeWarning: '<' not supported between instances of 'str' and 'int', sort order is undefined for incomparable objects\n",
      "  result = result.union(other)\n"
     ]
    },
    {
     "data": {
      "text/html": [
       "<div>\n",
       "<style scoped>\n",
       "    .dataframe tbody tr th:only-of-type {\n",
       "        vertical-align: middle;\n",
       "    }\n",
       "\n",
       "    .dataframe tbody tr th {\n",
       "        vertical-align: top;\n",
       "    }\n",
       "\n",
       "    .dataframe thead th {\n",
       "        text-align: right;\n",
       "    }\n",
       "</style>\n",
       "<table border=\"1\" class=\"dataframe\">\n",
       "  <thead>\n",
       "    <tr style=\"text-align: right;\">\n",
       "      <th></th>\n",
       "      <th>Age</th>\n",
       "      <th>Employeer</th>\n",
       "      <th>Num-Rep</th>\n",
       "      <th>Education</th>\n",
       "      <th>Edu-Num</th>\n",
       "      <th>Marital</th>\n",
       "      <th>Job</th>\n",
       "      <th>Relationship</th>\n",
       "      <th>Race</th>\n",
       "      <th>Sex</th>\n",
       "      <th>Cap-Gain</th>\n",
       "      <th>Cap-Loss</th>\n",
       "      <th>Hours</th>\n",
       "      <th>Nationality</th>\n",
       "      <th>Income</th>\n",
       "    </tr>\n",
       "  </thead>\n",
       "  <tbody>\n",
       "    <tr>\n",
       "      <th>0</th>\n",
       "      <td>50</td>\n",
       "      <td>Self-emp-not-inc</td>\n",
       "      <td>83311</td>\n",
       "      <td>Bachelors</td>\n",
       "      <td>13</td>\n",
       "      <td>Married-civ-spouse</td>\n",
       "      <td>Exec-managerial</td>\n",
       "      <td>Husband</td>\n",
       "      <td>White</td>\n",
       "      <td>Male</td>\n",
       "      <td>0</td>\n",
       "      <td>0</td>\n",
       "      <td>13</td>\n",
       "      <td>United-States</td>\n",
       "      <td>&lt;=50K</td>\n",
       "    </tr>\n",
       "    <tr>\n",
       "      <th>1</th>\n",
       "      <td>38</td>\n",
       "      <td>Private</td>\n",
       "      <td>215646</td>\n",
       "      <td>HS-grad</td>\n",
       "      <td>9</td>\n",
       "      <td>Divorced</td>\n",
       "      <td>Handlers-cleaners</td>\n",
       "      <td>Not-in-family</td>\n",
       "      <td>White</td>\n",
       "      <td>Male</td>\n",
       "      <td>0</td>\n",
       "      <td>0</td>\n",
       "      <td>40</td>\n",
       "      <td>United-States</td>\n",
       "      <td>&lt;=50K</td>\n",
       "    </tr>\n",
       "    <tr>\n",
       "      <th>2</th>\n",
       "      <td>53</td>\n",
       "      <td>Private</td>\n",
       "      <td>234721</td>\n",
       "      <td>11th</td>\n",
       "      <td>7</td>\n",
       "      <td>Married-civ-spouse</td>\n",
       "      <td>Handlers-cleaners</td>\n",
       "      <td>Husband</td>\n",
       "      <td>Black</td>\n",
       "      <td>Male</td>\n",
       "      <td>0</td>\n",
       "      <td>0</td>\n",
       "      <td>40</td>\n",
       "      <td>United-States</td>\n",
       "      <td>&lt;=50K</td>\n",
       "    </tr>\n",
       "    <tr>\n",
       "      <th>3</th>\n",
       "      <td>28</td>\n",
       "      <td>Private</td>\n",
       "      <td>338409</td>\n",
       "      <td>Bachelors</td>\n",
       "      <td>13</td>\n",
       "      <td>Married-civ-spouse</td>\n",
       "      <td>Prof-specialty</td>\n",
       "      <td>Wife</td>\n",
       "      <td>Black</td>\n",
       "      <td>Female</td>\n",
       "      <td>0</td>\n",
       "      <td>0</td>\n",
       "      <td>40</td>\n",
       "      <td>Cuba</td>\n",
       "      <td>&lt;=50K</td>\n",
       "    </tr>\n",
       "    <tr>\n",
       "      <th>4</th>\n",
       "      <td>37</td>\n",
       "      <td>Private</td>\n",
       "      <td>284582</td>\n",
       "      <td>Masters</td>\n",
       "      <td>14</td>\n",
       "      <td>Married-civ-spouse</td>\n",
       "      <td>Exec-managerial</td>\n",
       "      <td>Wife</td>\n",
       "      <td>White</td>\n",
       "      <td>Female</td>\n",
       "      <td>0</td>\n",
       "      <td>0</td>\n",
       "      <td>40</td>\n",
       "      <td>United-States</td>\n",
       "      <td>&lt;=50K</td>\n",
       "    </tr>\n",
       "  </tbody>\n",
       "</table>\n",
       "</div>"
      ],
      "text/plain": [
       "   Age          Employeer  Num-Rep   Education  Edu-Num              Marital  \\\n",
       "0   50   Self-emp-not-inc    83311   Bachelors       13   Married-civ-spouse   \n",
       "1   38            Private   215646     HS-grad        9             Divorced   \n",
       "2   53            Private   234721        11th        7   Married-civ-spouse   \n",
       "3   28            Private   338409   Bachelors       13   Married-civ-spouse   \n",
       "4   37            Private   284582     Masters       14   Married-civ-spouse   \n",
       "\n",
       "                  Job    Relationship    Race      Sex  Cap-Gain  Cap-Loss  \\\n",
       "0     Exec-managerial         Husband   White     Male         0         0   \n",
       "1   Handlers-cleaners   Not-in-family   White     Male         0         0   \n",
       "2   Handlers-cleaners         Husband   Black     Male         0         0   \n",
       "3      Prof-specialty            Wife   Black   Female         0         0   \n",
       "4     Exec-managerial            Wife   White   Female         0         0   \n",
       "\n",
       "   Hours     Nationality  Income  \n",
       "0     13   United-States   <=50K  \n",
       "1     40   United-States   <=50K  \n",
       "2     40   United-States   <=50K  \n",
       "3     40            Cuba   <=50K  \n",
       "4     40   United-States   <=50K  "
      ]
     },
     "metadata": {},
     "output_type": "display_data"
    }
   ],
   "source": [
    "first = list(census.columns.values)\n",
    "census.columns = ['Age','Employeer','Num-Rep','Education','Edu-Num','Marital','Job','Relationship',\n",
    "                  'Race','Sex','Cap-Gain','Cap-Loss','Hours','Nationality','Income']\n",
    "\n",
    "census.append(first)\n",
    "display(census.head())"
   ]
  },
  {
   "cell_type": "markdown",
   "metadata": {},
   "source": [
    "Our data only has 5 variables which are start out numeric and can easily be features, not including Num-Rep which is expected to not be a good measure."
   ]
  },
  {
   "cell_type": "code",
   "execution_count": 4,
   "metadata": {},
   "outputs": [
    {
     "data": {
      "text/html": [
       "<div>\n",
       "<style scoped>\n",
       "    .dataframe tbody tr th:only-of-type {\n",
       "        vertical-align: middle;\n",
       "    }\n",
       "\n",
       "    .dataframe tbody tr th {\n",
       "        vertical-align: top;\n",
       "    }\n",
       "\n",
       "    .dataframe thead th {\n",
       "        text-align: right;\n",
       "    }\n",
       "</style>\n",
       "<table border=\"1\" class=\"dataframe\">\n",
       "  <thead>\n",
       "    <tr style=\"text-align: right;\">\n",
       "      <th></th>\n",
       "      <th>Age</th>\n",
       "      <th>Num-Rep</th>\n",
       "      <th>Edu-Num</th>\n",
       "      <th>Cap-Gain</th>\n",
       "      <th>Cap-Loss</th>\n",
       "      <th>Hours</th>\n",
       "    </tr>\n",
       "  </thead>\n",
       "  <tbody>\n",
       "    <tr>\n",
       "      <th>count</th>\n",
       "      <td>32560.000000</td>\n",
       "      <td>3.256000e+04</td>\n",
       "      <td>32560.000000</td>\n",
       "      <td>32560.000000</td>\n",
       "      <td>32560.000000</td>\n",
       "      <td>32560.000000</td>\n",
       "    </tr>\n",
       "    <tr>\n",
       "      <th>mean</th>\n",
       "      <td>38.581634</td>\n",
       "      <td>1.897818e+05</td>\n",
       "      <td>10.080590</td>\n",
       "      <td>1077.615172</td>\n",
       "      <td>87.306511</td>\n",
       "      <td>40.437469</td>\n",
       "    </tr>\n",
       "    <tr>\n",
       "      <th>std</th>\n",
       "      <td>13.640642</td>\n",
       "      <td>1.055498e+05</td>\n",
       "      <td>2.572709</td>\n",
       "      <td>7385.402999</td>\n",
       "      <td>402.966116</td>\n",
       "      <td>12.347618</td>\n",
       "    </tr>\n",
       "    <tr>\n",
       "      <th>min</th>\n",
       "      <td>17.000000</td>\n",
       "      <td>1.228500e+04</td>\n",
       "      <td>1.000000</td>\n",
       "      <td>0.000000</td>\n",
       "      <td>0.000000</td>\n",
       "      <td>1.000000</td>\n",
       "    </tr>\n",
       "    <tr>\n",
       "      <th>25%</th>\n",
       "      <td>28.000000</td>\n",
       "      <td>1.178315e+05</td>\n",
       "      <td>9.000000</td>\n",
       "      <td>0.000000</td>\n",
       "      <td>0.000000</td>\n",
       "      <td>40.000000</td>\n",
       "    </tr>\n",
       "    <tr>\n",
       "      <th>50%</th>\n",
       "      <td>37.000000</td>\n",
       "      <td>1.783630e+05</td>\n",
       "      <td>10.000000</td>\n",
       "      <td>0.000000</td>\n",
       "      <td>0.000000</td>\n",
       "      <td>40.000000</td>\n",
       "    </tr>\n",
       "    <tr>\n",
       "      <th>75%</th>\n",
       "      <td>48.000000</td>\n",
       "      <td>2.370545e+05</td>\n",
       "      <td>12.000000</td>\n",
       "      <td>0.000000</td>\n",
       "      <td>0.000000</td>\n",
       "      <td>45.000000</td>\n",
       "    </tr>\n",
       "    <tr>\n",
       "      <th>max</th>\n",
       "      <td>90.000000</td>\n",
       "      <td>1.484705e+06</td>\n",
       "      <td>16.000000</td>\n",
       "      <td>99999.000000</td>\n",
       "      <td>4356.000000</td>\n",
       "      <td>99.000000</td>\n",
       "    </tr>\n",
       "  </tbody>\n",
       "</table>\n",
       "</div>"
      ],
      "text/plain": [
       "                Age       Num-Rep       Edu-Num      Cap-Gain      Cap-Loss  \\\n",
       "count  32560.000000  3.256000e+04  32560.000000  32560.000000  32560.000000   \n",
       "mean      38.581634  1.897818e+05     10.080590   1077.615172     87.306511   \n",
       "std       13.640642  1.055498e+05      2.572709   7385.402999    402.966116   \n",
       "min       17.000000  1.228500e+04      1.000000      0.000000      0.000000   \n",
       "25%       28.000000  1.178315e+05      9.000000      0.000000      0.000000   \n",
       "50%       37.000000  1.783630e+05     10.000000      0.000000      0.000000   \n",
       "75%       48.000000  2.370545e+05     12.000000      0.000000      0.000000   \n",
       "max       90.000000  1.484705e+06     16.000000  99999.000000   4356.000000   \n",
       "\n",
       "              Hours  \n",
       "count  32560.000000  \n",
       "mean      40.437469  \n",
       "std       12.347618  \n",
       "min        1.000000  \n",
       "25%       40.000000  \n",
       "50%       40.000000  \n",
       "75%       45.000000  \n",
       "max       99.000000  "
      ]
     },
     "metadata": {},
     "output_type": "display_data"
    }
   ],
   "source": [
    "display(census.describe())"
   ]
  },
  {
   "cell_type": "markdown",
   "metadata": {},
   "source": [
    "It seems Cap-Gain and Cap-Loss are very skewed variables, both having means of 0 and maxes well over 1,000. We will still attempt to see if they will make good features for PCA"
   ]
  },
  {
   "cell_type": "markdown",
   "metadata": {},
   "source": [
    "## Creating Features\n",
    "\n",
    "I will check and see which variables can become features. To be qualified to be a possible feature, a variable needs to have a correlation of about 0.2-0.7 between it and the outcome variable, in this case, Income. I will put all the features I am testing along with the outcome variable in a holder dataframe until I am confident they should be in my PCA.  "
   ]
  },
  {
   "cell_type": "code",
   "execution_count": 5,
   "metadata": {},
   "outputs": [],
   "source": [
    "test_features = pd.DataFrame()\n",
    "test_features['Income'] = census['Income'].apply({' <=50K':0,' >50K':1}.get)\n",
    "test_features['Sex'] = census['Sex'].apply({' Female':0,' Male':1}.get)\n",
    "test_features['Num-Rep'] = census['Num-Rep']\n",
    "test_features['Edu-Num'] = census['Edu-Num']\n",
    "test_features['Cap-Gain'] = census['Cap-Gain']\n",
    "test_features['Cap-Loss'] = census['Cap-Loss']\n",
    "test_features['Hours'] = census['Hours']\n",
    "test_features['Age'] = census['Age']"
   ]
  },
  {
   "cell_type": "code",
   "execution_count": 6,
   "metadata": {},
   "outputs": [
    {
     "data": {
      "image/png": "[encoded data removed]",
      "text/plain": [
       "<Figure size 864x648 with 2 Axes>"
      ]
     },
     "metadata": {},
     "output_type": "display_data"
    }
   ],
   "source": [
    "fcorr = test_features[['Age','Num-Rep','Edu-Num','Cap-Gain','Cap-Loss','Hours','Income']].corr()\n",
    "f, ax = plt.subplots(figsize=(12, 9))\n",
    "\n",
    "# Draw the heatmap using seaborn\n",
    "sns.heatmap(fcorr, vmax=.8, vmin=-0.8, square=True)\n",
    "plt.show()"
   ]
  },
  {
   "cell_type": "markdown",
   "metadata": {},
   "source": [
    "It seems I was right about Num-Rep not being a good variable to use for PCA. Cap-Loss also seems like it might not have enough correlation between it and income, but I'll include it.\n",
    "\n",
    "That leaves me with 6 possible features: __Age__, __Edu-Num__, __Sex__, __Cap-Gain__, __Cap-Loss__, and __Hours__.  This may not be enough. "
   ]
  },
  {
   "cell_type": "markdown",
   "metadata": {},
   "source": [
    "## Type of Employeer\n",
    "\n",
    "We will test all 8 categories of employeer presented in the census data. Private company employeers will be reprsented by __Private__. Self employed subjects without incorporation will be __Self-Emp__ and with incorporation will be __Self-Emp-Inc__. Subjects employeed by Federal, Local, and State goverment bodies will be classified as __Federal-Gov__, __Local-Gov__, and __State-Gov__ respectively. People who work for non-profits will be __Volunteer__ while people who've never worked in their life will be under __Never-Worked__."
   ]
  },
  {
   "cell_type": "code",
   "execution_count": 7,
   "metadata": {},
   "outputs": [],
   "source": [
    "test_features['Private'] = np.where((census['Employeer'].isin([' Private'])), 1, 0)\n",
    "test_features['Self-Emp'] = np.where((census['Employeer'].isin([' Self-emp-not-inc'])), 1, 0)\n",
    "test_features['Self-Emp-Inc'] = np.where((census['Employeer'].isin([' Self-emp-inc'])), 1, 0)\n",
    "test_features['Federal-Gov'] = np.where((census['Employeer'].isin([' Federal-gov'])), 1, 0)\n",
    "test_features['Local-Gov'] = np.where((census['Employeer'].isin([' Local-gov'])), 1, 0)\n",
    "test_features['State-Gov'] = np.where((census['Employeer'].isin([' State-gov'])), 1, 0)\n",
    "test_features['Volunteer'] = np.where((census['Employeer'].isin([' Without-pay'])), 1, 0)\n",
    "test_features['Never-Worked'] = np.where((census['Employeer'].isin([' Never-worked'])), 1, 0)\n"
   ]
  },
  {
   "cell_type": "code",
   "execution_count": 8,
   "metadata": {},
   "outputs": [
    {
     "data": {
      "image/png": "[encoded data removed]",
      "text/plain": [
       "<Figure size 864x648 with 2 Axes>"
      ]
     },
     "metadata": {},
     "output_type": "display_data"
    }
   ],
   "source": [
    "fcorr = test_features[['Private','Self-Emp','Self-Emp-Inc','Federal-Gov','Local-Gov',\n",
    "                       'State-Gov','Volunteer','Never-Worked','Income']].corr()\n",
    "f, ax = plt.subplots(figsize=(12, 9))\n",
    "\n",
    "# Draw the heatmap using seaborn\n",
    "sns.heatmap(fcorr, vmax=.8, vmin=-0.8, square=True)\n",
    "plt.show()"
   ]
  },
  {
   "cell_type": "markdown",
   "metadata": {},
   "source": [
    "I'll inlcude __Self-Emp_Inc__, the feature which decribes if a subject is both self-employeed and incorporated, since it appears to have a high correlation. __Self-Emp__ and __Fed-Gov__ also have a non-zero correlation, but are too low to include."
   ]
  },
  {
   "cell_type": "markdown",
   "metadata": {},
   "source": [
    "## Type of Job\n",
    "\n",
    "The types of jobs represented here are extremely varied and the categories are self-explanitory."
   ]
  },
  {
   "cell_type": "code",
   "execution_count": 9,
   "metadata": {},
   "outputs": [],
   "source": [
    "test_features['Tech-support'] = np.where((census['Job'].isin([' Tech-support'])), 1, 0)\n",
    "test_features['Craft-repair'] = np.where((census['Job'].isin([' Craft-repair'])), 1, 0)\n",
    "test_features['Other-service'] = np.where((census['Job'].isin([' Other-service'])), 1, 0)\n",
    "test_features['Exec-managerial'] = np.where((census['Job'].isin([' Exec-managerial'])), 1, 0)\n",
    "test_features['Prof-specialty'] = np.where((census['Job'].isin([' Prof-specialty'])), 1, 0)\n",
    "test_features['Handlers-cleaners'] = np.where((census['Job'].isin([' Handlers-cleaners'])), 1, 0)\n",
    "test_features['Machine-op-inspct'] = np.where((census['Job'].isin([' Machine-op-inspct'])), 1, 0)\n",
    "test_features['Adm-clerical'] = np.where((census['Job'].isin([' Adm-clerical'])), 1, 0)\n",
    "test_features['Farming-fishing'] = np.where((census['Job'].isin([' Farming-fishing'])), 1, 0)\n",
    "test_features['Transport-moving'] = np.where((census['Job'].isin([' Transport-moving'])), 1, 0)\n",
    "test_features['Priv-house-serv'] = np.where((census['Job'].isin([' Priv-house-serv'])), 1, 0)\n",
    "test_features['Protective-serv'] = np.where((census['Job'].isin([' Protective-serv'])), 1, 0)\n",
    "test_features['Armed-Forces'] = np.where((census['Job'].isin([' Armed-Forces'])), 1, 0)"
   ]
  },
  {
   "cell_type": "code",
   "execution_count": 10,
   "metadata": {},
   "outputs": [
    {
     "data": {
      "image/png": "[encoded data removed]",
      "text/plain": [
       "<Figure size 864x648 with 2 Axes>"
      ]
     },
     "metadata": {},
     "output_type": "display_data"
    }
   ],
   "source": [
    "fcorr = test_features[['Tech-support','Craft-repair','Other-service','Exec-managerial','Prof-specialty',\n",
    "                       'Handlers-cleaners','Machine-op-inspct','Adm-clerical','Farming-fishing','Transport-moving',\n",
    "                       'Priv-house-serv','Protective-serv','Armed-Forces','Income']].corr()\n",
    "f, ax = plt.subplots(figsize=(12, 9))\n",
    "\n",
    "# Draw the heatmap using seaborn\n",
    "sns.heatmap(fcorr, vmax=.8, vmin=-0.8, square=True)\n",
    "plt.show()"
   ]
  },
  {
   "cell_type": "markdown",
   "metadata": {},
   "source": [
    "I'll add __Exec-managerial__ and __Prof-speciality__ to the list of possible features. __Other-service__ should also be added as it correlates negatively with the outcome."
   ]
  },
  {
   "cell_type": "markdown",
   "metadata": {},
   "source": [
    "## Marital Status\n",
    "\n",
    "Next, I'll look for features in the subject's marital status."
   ]
  },
  {
   "cell_type": "code",
   "execution_count": 11,
   "metadata": {},
   "outputs": [],
   "source": [
    "test_features['Never-Married'] = np.where((census['Marital'].isin([' Never-married'])), 1, 0)\n",
    "test_features['Married'] = np.where((census['Marital'].isin([' Married-AF-spouse',' Married-civ-spouse'])), 1, 0)\n",
    "test_features['Not-Married'] = np.where((census['Marital'].isin([' Separated',' Widowed',' Divorced'])), 1, 0)\n",
    "test_features['Widowed'] = np.where((census['Marital'].isin([' Widowed'])), 1, 0)\n",
    "test_features['Divorced'] = np.where((census['Marital'].isin([' Divorced'])), 1, 0)"
   ]
  },
  {
   "cell_type": "code",
   "execution_count": 12,
   "metadata": {},
   "outputs": [
    {
     "data": {
      "image/png": "[encoded data removed]",
      "text/plain": [
       "<Figure size 864x648 with 2 Axes>"
      ]
     },
     "metadata": {},
     "output_type": "display_data"
    }
   ],
   "source": [
    "fcorr = test_features[['Never-Married','Married','Not-Married','Widowed','Divorced','Income']].corr()\n",
    "f, ax = plt.subplots(figsize=(12, 9))\n",
    "\n",
    "# Draw the heatmap using seaborn\n",
    "sns.heatmap(fcorr, vmax=.8, vmin=-0.8, square=True)\n",
    "plt.show()"
   ]
  },
  {
   "cell_type": "markdown",
   "metadata": {},
   "source": [
    "__Married__ seems to be very strongly correlated with the outcome so I will definitely add it. On the other hand __Never-Married__ has a strong negative correlation while __Not-Married__ and __Divorced__ have a weak but present negative correlation.  However, because Married and Never-Married have such strong negative correlation, I will only only add __Married__, and because Divorced is a subgroup of Not-Married, I will only add __Not-Married__."
   ]
  },
  {
   "cell_type": "markdown",
   "metadata": {},
   "source": [
    "## Race\n",
    "\n",
    "I'll see if there is any correlation between income being more or less than $50K and race."
   ]
  },
  {
   "cell_type": "code",
   "execution_count": 13,
   "metadata": {},
   "outputs": [],
   "source": [
    "test_features['White'] = np.where((census['Race'].isin([' White'])), 1, 0)\n",
    "test_features['Asian'] = np.where((census['Race'].isin([' Asian-Pac-Islander'])), 1, 0)\n",
    "test_features['Black'] = np.where((census['Race'].isin([' Black'])), 1, 0)\n",
    "test_features['Amer-Indian'] = np.where((census['Race'].isin([' Amer-Indian-Eskimo'])), 1, 0)\n",
    "test_features['Other'] = np.where((census['Race'].isin([' Other'])), 1, 0)"
   ]
  },
  {
   "cell_type": "code",
   "execution_count": 14,
   "metadata": {},
   "outputs": [
    {
     "data": {
      "image/png": "[encoded data removed]",
      "text/plain": [
       "<Figure size 864x648 with 2 Axes>"
      ]
     },
     "metadata": {},
     "output_type": "display_data"
    }
   ],
   "source": [
    "fcorr = test_features[['White','Asian','Black','Amer-Indian','Other','Income']].corr()\n",
    "f, ax = plt.subplots(figsize=(12, 9))\n",
    "\n",
    "# Draw the heatmap using seaborn\n",
    "sns.heatmap(fcorr, vmax=.8, vmin=-0.8, square=True)\n",
    "plt.show()"
   ]
  },
  {
   "cell_type": "markdown",
   "metadata": {},
   "source": [
    "Interestingly, the correlation between income and race is not very strong. I will include __Black__, which had a very weak negative correlation to the outcome."
   ]
  },
  {
   "cell_type": "markdown",
   "metadata": {},
   "source": [
    "## Nationality\n",
    "\n",
    "This is a tricky one to look at because of the fact that so many countries are respresented here and not many of them have many entries. To get around this, I'll group the countries together based on geographic location, political connections, and number represented in the sample."
   ]
  },
  {
   "cell_type": "code",
   "execution_count": 15,
   "metadata": {},
   "outputs": [
    {
     "data": {
      "text/plain": [
       " United-States                 29169\n",
       " Mexico                          643\n",
       " ?                               583\n",
       " Philippines                     198\n",
       " Germany                         137\n",
       " Canada                          121\n",
       " Puerto-Rico                     114\n",
       " El-Salvador                     106\n",
       " India                           100\n",
       " Cuba                             95\n",
       " England                          90\n",
       " Jamaica                          81\n",
       " South                            80\n",
       " China                            75\n",
       " Italy                            73\n",
       " Dominican-Republic               70\n",
       " Vietnam                          67\n",
       " Guatemala                        64\n",
       " Japan                            62\n",
       " Poland                           60\n",
       " Columbia                         59\n",
       " Taiwan                           51\n",
       " Haiti                            44\n",
       " Iran                             43\n",
       " Portugal                         37\n",
       " Nicaragua                        34\n",
       " Peru                             31\n",
       " Greece                           29\n",
       " France                           29\n",
       " Ecuador                          28\n",
       " Ireland                          24\n",
       " Hong                             20\n",
       " Cambodia                         19\n",
       " Trinadad&Tobago                  19\n",
       " Thailand                         18\n",
       " Laos                             18\n",
       " Yugoslavia                       16\n",
       " Outlying-US(Guam-USVI-etc)       14\n",
       " Honduras                         13\n",
       " Hungary                          13\n",
       " Scotland                         12\n",
       " Holand-Netherlands                1\n",
       "Name: Nationality, dtype: int64"
      ]
     },
     "execution_count": 15,
     "metadata": {},
     "output_type": "execute_result"
    }
   ],
   "source": [
    "census['Nationality'].value_counts()"
   ]
  },
  {
   "cell_type": "markdown",
   "metadata": {},
   "source": [
    "I will omit respondants who did not know their country of origin.\n",
    "\n",
    "There will be 9 groups: __United States__ is the biggest group, no need to merge with other groups. __SE Asia__ will include Cambodia, Laos, the Philippines, Thailand, and Vietnam. __Brittish-Commonwealth__ will include Canada, England, India, Ireland, and Scotland. __China__ will include China, Hong, and Taiwan. __South-America__ will include Columbia, Ecudor, El Salvador, and Peru. __Latin-America__, or Central America, will include the Dominican Rebuplic, Guatemala, Haiti, Honduras, Jamaica, Mexico, Nicaragua, US Territories (e.g. Guam), Puerto-Rico, and Trinadad & Tobago. __W-Euro__ will include France, Germany, the Netherlands, and Italy. __E-Euro__ will include Greece, Hungary, Poland, Portugal, Yugoslavia, and Southern Europe. __Other__ will include uncharacterized nations: Cuba, Iran, and Japan. "
   ]
  },
  {
   "cell_type": "code",
   "execution_count": 16,
   "metadata": {},
   "outputs": [],
   "source": [
    "test_features['United States'] = np.where((census['Nationality'].isin([' United-States'])), 1, 0)\n",
    "\n",
    "test_features['SE-Asia'] = np.where((census['Nationality'].isin([' Cambodia',' Laos',' Philippines',' Thailand',\n",
    "                                                                 ' Vietnam'])), 1, 0)\n",
    "\n",
    "test_features['British-Commonwealth'] = np.where((census['Nationality'].isin([' Canada',' England',' India',' Ireland',\n",
    "                                                                             ' Scotland'])), 1, 0)\n",
    "\n",
    "test_features['China'] = np.where((census['Nationality'].isin([' China',' Hong',' Taiwan'])), 1, 0)\n",
    "\n",
    "test_features['South-America'] = np.where((census['Nationality'].isin([' Columbia',' Ecuador',' El-Salvador',' Peru'])), 1, 0)\n",
    "\n",
    "test_features['Latin-America'] = np.where((census['Nationality'].isin([' Dominican-Republic',' Guatemala',' Haiti',\n",
    "                                                                       ' Honduras',' Jamaica',' Mexico',' Nicaragua',\n",
    "                                                                      ' Outlying-US(Guam-USVI-etc)',' Puerto-Rico',\n",
    "                                                                      ' Trinadad&Tobago'])), 1, 0)\n",
    "\n",
    "test_features['W-Euro'] = np.where((census['Nationality'].isin([' France',' Germany',' Holand-Netherlands',' Italy'])), 1, 0)\n",
    "\n",
    "test_features['E-Euro'] = np.where((census['Nationality'].isin([' Greece',' Hungary',' Poland',' Portugal',' South',\n",
    "                                                               ' Yugoslavia'])), 1, 0)\n",
    "\n",
    "test_features['Other'] = np.where((census['Nationality'].isin([' Cuba',' Iran',' Japan'])), 1, 0)"
   ]
  },
  {
   "cell_type": "code",
   "execution_count": 17,
   "metadata": {},
   "outputs": [
    {
     "data": {
      "image/png": "[encoded data removed]",
      "text/plain": [
       "<Figure size 864x648 with 2 Axes>"
      ]
     },
     "metadata": {},
     "output_type": "display_data"
    }
   ],
   "source": [
    "fcorr = test_features[['United States','SE-Asia','British-Commonwealth','China','South-America','Latin-America',\n",
    "                       'W-Euro','E-Euro','Other','Income']].corr()\n",
    "f, ax = plt.subplots(figsize=(12, 9))\n",
    "\n",
    "# Draw the heatmap using seaborn\n",
    "sns.heatmap(fcorr, vmax=.8, vmin=-0.8, square=True)\n",
    "plt.show()"
   ]
  },
  {
   "cell_type": "markdown",
   "metadata": {},
   "source": [
    "No nationality in particular seems to skew towards the outcome. However, the __Latin-America__ region tends to slightly skew away from the outcome, so we will include it."
   ]
  },
  {
   "cell_type": "markdown",
   "metadata": {},
   "source": [
    "## Finalizing Our Features\n",
    "\n",
    "I'm ready to create a dataframe containing all the best features from the data."
   ]
  },
  {
   "cell_type": "code",
   "execution_count": 35,
   "metadata": {},
   "outputs": [
    {
     "data": {
      "text/html": [
       "<div>\n",
       "<style scoped>\n",
       "    .dataframe tbody tr th:only-of-type {\n",
       "        vertical-align: middle;\n",
       "    }\n",
       "\n",
       "    .dataframe tbody tr th {\n",
       "        vertical-align: top;\n",
       "    }\n",
       "\n",
       "    .dataframe thead th {\n",
       "        text-align: right;\n",
       "    }\n",
       "</style>\n",
       "<table border=\"1\" class=\"dataframe\">\n",
       "  <thead>\n",
       "    <tr style=\"text-align: right;\">\n",
       "      <th></th>\n",
       "      <th>Age</th>\n",
       "      <th>Edu-Num</th>\n",
       "      <th>Sex</th>\n",
       "      <th>Cap-Gain</th>\n",
       "      <th>Cap-Loss</th>\n",
       "      <th>Hours</th>\n",
       "      <th>Self-Emp-Inc</th>\n",
       "      <th>Exec-managerial</th>\n",
       "      <th>Prof-specialty</th>\n",
       "      <th>Other-service</th>\n",
       "      <th>Married</th>\n",
       "      <th>Not-Married</th>\n",
       "      <th>Black</th>\n",
       "      <th>Latin-America</th>\n",
       "      <th>Income</th>\n",
       "    </tr>\n",
       "  </thead>\n",
       "  <tbody>\n",
       "    <tr>\n",
       "      <th>0</th>\n",
       "      <td>50</td>\n",
       "      <td>13</td>\n",
       "      <td>1</td>\n",
       "      <td>0</td>\n",
       "      <td>0</td>\n",
       "      <td>13</td>\n",
       "      <td>0</td>\n",
       "      <td>1</td>\n",
       "      <td>0</td>\n",
       "      <td>0</td>\n",
       "      <td>1</td>\n",
       "      <td>0</td>\n",
       "      <td>0</td>\n",
       "      <td>0</td>\n",
       "      <td>0</td>\n",
       "    </tr>\n",
       "    <tr>\n",
       "      <th>1</th>\n",
       "      <td>38</td>\n",
       "      <td>9</td>\n",
       "      <td>1</td>\n",
       "      <td>0</td>\n",
       "      <td>0</td>\n",
       "      <td>40</td>\n",
       "      <td>0</td>\n",
       "      <td>0</td>\n",
       "      <td>0</td>\n",
       "      <td>0</td>\n",
       "      <td>0</td>\n",
       "      <td>1</td>\n",
       "      <td>0</td>\n",
       "      <td>0</td>\n",
       "      <td>0</td>\n",
       "    </tr>\n",
       "    <tr>\n",
       "      <th>2</th>\n",
       "      <td>53</td>\n",
       "      <td>7</td>\n",
       "      <td>1</td>\n",
       "      <td>0</td>\n",
       "      <td>0</td>\n",
       "      <td>40</td>\n",
       "      <td>0</td>\n",
       "      <td>0</td>\n",
       "      <td>0</td>\n",
       "      <td>0</td>\n",
       "      <td>1</td>\n",
       "      <td>0</td>\n",
       "      <td>1</td>\n",
       "      <td>0</td>\n",
       "      <td>0</td>\n",
       "    </tr>\n",
       "    <tr>\n",
       "      <th>3</th>\n",
       "      <td>28</td>\n",
       "      <td>13</td>\n",
       "      <td>0</td>\n",
       "      <td>0</td>\n",
       "      <td>0</td>\n",
       "      <td>40</td>\n",
       "      <td>0</td>\n",
       "      <td>0</td>\n",
       "      <td>1</td>\n",
       "      <td>0</td>\n",
       "      <td>1</td>\n",
       "      <td>0</td>\n",
       "      <td>1</td>\n",
       "      <td>0</td>\n",
       "      <td>0</td>\n",
       "    </tr>\n",
       "    <tr>\n",
       "      <th>4</th>\n",
       "      <td>37</td>\n",
       "      <td>14</td>\n",
       "      <td>0</td>\n",
       "      <td>0</td>\n",
       "      <td>0</td>\n",
       "      <td>40</td>\n",
       "      <td>0</td>\n",
       "      <td>1</td>\n",
       "      <td>0</td>\n",
       "      <td>0</td>\n",
       "      <td>1</td>\n",
       "      <td>0</td>\n",
       "      <td>0</td>\n",
       "      <td>0</td>\n",
       "      <td>0</td>\n",
       "    </tr>\n",
       "  </tbody>\n",
       "</table>\n",
       "</div>"
      ],
      "text/plain": [
       "   Age  Edu-Num  Sex  Cap-Gain  Cap-Loss  Hours  Self-Emp-Inc  \\\n",
       "0   50       13    1         0         0     13             0   \n",
       "1   38        9    1         0         0     40             0   \n",
       "2   53        7    1         0         0     40             0   \n",
       "3   28       13    0         0         0     40             0   \n",
       "4   37       14    0         0         0     40             0   \n",
       "\n",
       "   Exec-managerial  Prof-specialty  Other-service  Married  Not-Married  \\\n",
       "0                1               0              0        1            0   \n",
       "1                0               0              0        0            1   \n",
       "2                0               0              0        1            0   \n",
       "3                0               1              0        1            0   \n",
       "4                1               0              0        1            0   \n",
       "\n",
       "   Black  Latin-America  Income  \n",
       "0      0              0       0  \n",
       "1      0              0       0  \n",
       "2      1              0       0  \n",
       "3      1              0       0  \n",
       "4      0              0       0  "
      ]
     },
     "execution_count": 35,
     "metadata": {},
     "output_type": "execute_result"
    }
   ],
   "source": [
    "x = ['Age','Edu-Num','Sex','Cap-Gain','Cap-Loss','Hours','Self-Emp-Inc','Exec-managerial','Prof-specialty',\n",
    "     'Other-service','Married','Not-Married','Black','Latin-America']\n",
    "\n",
    "\n",
    "features = test_features.loc[:, x+['Income']]\n",
    "features.head()"
   ]
  },
  {
   "cell_type": "markdown",
   "metadata": {},
   "source": [
    "## Training and Test Sets"
   ]
  },
  {
   "cell_type": "code",
   "execution_count": 71,
   "metadata": {},
   "outputs": [],
   "source": [
    "trainsize = int(features.shape[0] / 2)\n",
    "df_test = features.iloc[trainsize:, :].copy()\n",
    "df_train = features.iloc[:trainsize, :].copy()\n",
    "\n",
    "Y_train = df_train['Income']\n",
    "X_train = df_train.loc[:, ~(df_train.columns).isin(['Income'])]\n",
    "\n",
    "Y_test = df_test['Income']\n",
    "X_test = df_test.loc[:, ~(df_test.columns).isin(['Income'])]"
   ]
  },
  {
   "cell_type": "markdown",
   "metadata": {},
   "source": [
    "## Vanilla"
   ]
  },
  {
   "cell_type": "code",
   "execution_count": 74,
   "metadata": {},
   "outputs": [
    {
     "name": "stdout",
     "output_type": "stream",
     "text": [
      "R² for the Vanilla model:\n",
      "0.8464987714987715\n",
      "\n",
      "Parameter estimates for the Vanilla Model:\n",
      "[ 2.10327816e-02  2.64874905e-01  8.13860085e-02  2.90634009e-04\n",
      "  6.63960660e-04  2.45767522e-02  3.07884891e-01  8.22665691e-01\n",
      "  6.46164489e-01 -7.86058530e-01  2.51908047e+00  3.76846120e-01\n",
      " -1.10925694e-01 -6.74829369e-01 -8.01003956e+00]\n"
     ]
    }
   ],
   "source": [
    "lr = linear_model.LogisticRegression()\n",
    "lfit = lr.fit(X_train, Y_train)\n",
    "print('R² for the Vanilla model:')\n",
    "print(lfit.score(X_train, Y_train))\n",
    "lrparams = np.append(lfit.coef_, lfit.intercept_)\n",
    "print('\\nParameter estimates for the Vanilla Model:')\n",
    "print(lrparams)"
   ]
  },
  {
   "cell_type": "code",
   "execution_count": 76,
   "metadata": {},
   "outputs": [],
   "source": [
    "log_pred_ = lfit.predict(X_train)"
   ]
  },
  {
   "cell_type": "markdown",
   "metadata": {},
   "source": [
    "## Ridge"
   ]
  },
  {
   "cell_type": "code",
   "execution_count": 77,
   "metadata": {},
   "outputs": [
    {
     "name": "stdout",
     "output_type": "stream",
     "text": [
      "R² for the Ridge model:\n",
      "0.278099445304385\n",
      "\n",
      "Parameter estimates for the Ridge Model:\n",
      "[-1.36618878e-03  9.43421974e-03 -6.56052232e-03  1.03484352e-05\n",
      "  1.59982338e-04 -1.35766246e-03  1.63239838e-01  3.03227489e-01\n",
      "  2.78311526e-01 -3.31301577e-02  2.73638055e-01 -2.06221039e-02\n",
      " -3.79291263e-02 -7.12488711e-02  0.00000000e+00]\n"
     ]
    }
   ],
   "source": [
    "ridge = linear_model.Ridge(alpha=10, fit_intercept=False) \n",
    "ridgefit = ridge.fit(X_train, log_pred_)\n",
    "print('R² for the Ridge model:')\n",
    "print(ridgefit.score(X_train, Y_train))\n",
    "ridgeparams = np.append(ridgefit.coef_, ridgefit.intercept_)\n",
    "print('\\nParameter estimates for the Ridge Model:')\n",
    "print(ridgeparams)"
   ]
  },
  {
   "cell_type": "code",
   "execution_count": 63,
   "metadata": {},
   "outputs": [
    {
     "name": "stdout",
     "output_type": "stream",
     "text": [
      "R² for the Ridge model:\n",
      "0.8332309582309583\n",
      "\n",
      "Parameter estimates for the Ridge Model:\n",
      "[ 5.41938869e-03  6.91641945e-02  4.70242631e-02  1.67033307e-05\n",
      "  1.98614540e-04  5.16627023e-03  1.26367191e-01  2.76086567e-01\n",
      "  1.77044547e-01 -3.41668374e-02  5.49980998e-01 -1.67233934e-02\n",
      " -1.90448852e-02 -2.76932384e-02 -2.00717410e+00]\n"
     ]
    }
   ],
   "source": [
    "ridge = linear_model.RidgeClassifier(alpha=100) \n",
    "ridgefit = ridge.fit(X_train, Y_train)\n",
    "print('R² for the Ridge model:')\n",
    "print(ridgefit.score(X_train, Y_train))\n",
    "origparams = np.append(ridgefit.coef_, ridgefit.intercept_)\n",
    "print('\\nParameter estimates for the Ridge Model:')\n",
    "print(origparams)"
   ]
  },
  {
   "cell_type": "markdown",
   "metadata": {},
   "source": [
    "## Lasso"
   ]
  },
  {
   "cell_type": "code",
   "execution_count": 64,
   "metadata": {},
   "outputs": [
    {
     "name": "stdout",
     "output_type": "stream",
     "text": [
      "R² for the Lasso model:\n",
      "0.3320833034752927\n",
      "\n",
      "Parameter estimates for the Lasso Model:\n",
      "[ 3.23092196e-03  4.09513762e-02  0.00000000e+00  8.95106349e-06\n",
      "  1.07573312e-04  3.39466714e-03  0.00000000e+00  3.54878660e-02\n",
      "  0.00000000e+00 -0.00000000e+00  2.56088070e-01 -0.00000000e+00\n",
      " -0.00000000e+00 -0.00000000e+00 -5.76503188e-01]\n"
     ]
    }
   ],
   "source": [
    "lass = linear_model.Lasso(alpha=.01)\n",
    "lassfit = lass.fit(X_train, Y_train)\n",
    "print('R² for the Lasso model:')\n",
    "print(lass.score(X_train, Y_train))\n",
    "lassparams = np.append(lassfit.coef_, lassfit.intercept_)\n",
    "print('\\nParameter estimates for the Lasso Model:')\n",
    "print(lassparams)"
   ]
  },
  {
   "cell_type": "code",
   "execution_count": 66,
   "metadata": {},
   "outputs": [
    {
     "name": "stdout",
     "output_type": "stream",
     "text": [
      "R² for the Lasso model:\n",
      "0.8458845208845209\n",
      "\n",
      "Parameter estimates for the Lasso Model:\n",
      "[ 2.28104358e-02  2.83674181e-01  9.89239300e-02  2.92046825e-04\n",
      "  6.66933105e-04  2.64188951e-02  2.74511651e-01  7.98090934e-01\n",
      "  5.53440875e-01 -7.69367696e-01  2.54630183e+00  4.09986219e-01\n",
      " -5.04990985e-02 -5.62055642e-01 -8.39644159e+00]\n"
     ]
    }
   ],
   "source": [
    "lass = linear_model.LogisticRegression(penalty='l1', solver='liblinear')\n",
    "lassfit = lass.fit(X_train, Y_train)\n",
    "print('R² for the Lasso model:')\n",
    "print(lassfit.score(X_train, Y_train))\n",
    "lassparams = np.append(lassfit.coef_, lassfit.intercept_)\n",
    "print('\\nParameter estimates for the Lasso Model:')\n",
    "print(lassparams)"
   ]
  },
  {
   "cell_type": "markdown",
   "metadata": {},
   "source": [
    "## References\n",
    "\n",
    "http://archive.ics.uci.edu/ml/datasets/Adult"
   ]
  }
 ],
 "metadata": {
  "kernelspec": {
   "display_name": "Python 3",
   "language": "python",
   "name": "python3"
  },
  "language_info": {
   "codemirror_mode": {
    "name": "ipython",
    "version": 3
   },
   "file_extension": ".py",
   "mimetype": "text/x-python",
   "name": "python",
   "nbconvert_exporter": "python",
   "pygments_lexer": "ipython3",
   "version": "3.6.4"
  }
 },
 "nbformat": 4,
 "nbformat_minor": 2
}
